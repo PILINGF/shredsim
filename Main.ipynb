{
 "cells": [
  {
   "cell_type": "markdown",
   "metadata": {},
   "source": [
    "Edge letter recognition prototype model\n",
    "==="
   ]
  },
  {
   "cell_type": "code",
   "execution_count": null,
   "metadata": {
    "collapsed": false
   },
   "outputs": [],
   "source": [
    "import cv2\n",
    "import numpy as np\n",
    "\n",
    "from shredsim import classifier\n",
    "from shredsim import utils\n",
    "from shredsim import dataset\n",
    "from shredsim import border as border_m\n",
    "\n",
    "import matplotlib\n",
    "matplotlib.rc('font', family='Arial')\n",
    "%pylab inline"
   ]
  },
  {
   "cell_type": "code",
   "execution_count": null,
   "metadata": {
    "collapsed": false
   },
   "outputs": [],
   "source": [
    "source, shred_config = utils.load_targets()\n",
    "mask = shred_config.mask\n",
    "imshow(source, cmap='gray')\n",
    "print \"Document used for training/testing.\""
   ]
  },
  {
   "cell_type": "code",
   "execution_count": null,
   "metadata": {
    "collapsed": false
   },
   "outputs": [],
   "source": [
    "graph = utils.cut_to_shreds(source.shape, shred_config)\n",
    "print 'Total shreds:',len(graph)\n",
    "\n",
    "for node in graph.nodes():\n",
    "    if not utils.is_good_node(source[graph.node[node]['slice']]):\n",
    "        graph.remove_node(node)\n",
    "print \"'Good', non-empty shreds:\", len(graph)"
   ]
  },
  {
   "cell_type": "code",
   "execution_count": null,
   "metadata": {
    "collapsed": false
   },
   "outputs": [],
   "source": [
    "pattern = np.zeros(source.shape)\n",
    "for n in graph:\n",
    "    pattern[dataset.to_slice(n, shred_config.mask.shape)] = shred_config.mask\n",
    "imshow(pattern, cmap='gray')\n",
    "print \"Non-empty shreds layout.\""
   ]
  },
  {
   "cell_type": "code",
   "execution_count": null,
   "metadata": {
    "collapsed": false
   },
   "outputs": [],
   "source": [
    "# Pick random shred for further processing.\n",
    "import random\n",
    "key1 = random.choice(graph.nodes())\n",
    "# Apply shred mask to a random rectangular doc slice.\n",
    "subplot(131)\n",
    "title(\"Mask\")\n",
    "imshow(mask, cmap='gray')\n",
    "subplot(132)\n",
    "title(\"Doc region\")\n",
    "imshow(source[graph.node[key1]['slice']], cmap='gray')\n",
    "subplot(133)\n",
    "title(\"Masked region\")\n",
    "imshow(utils.masked_shred(source[graph.node[key1]['slice']], mask), cmap='gray')\n",
    "print mask.shape"
   ]
  },
  {
   "cell_type": "code",
   "execution_count": null,
   "metadata": {
    "collapsed": false
   },
   "outputs": [],
   "source": [
    "# Pad shred mask and determine border points.\n",
    "# A window slides over border points to find partial characters.\n",
    "\n",
    "padded_mask = dataset.pad_image(mask, dataset.WINDOW_SIDE)\n",
    "\n",
    "border_obj = border_m.ShredMaskBorder(padded_mask)\n",
    "border = border_obj.get_border_mask()\n",
    "figure(num=None, figsize=(5, 10), facecolor='w', edgecolor='k')\n",
    "subplot(131)\n",
    "title(\"Padded mask\")\n",
    "imshow(padded_mask, cmap='gray')\n",
    "subplot(132)\n",
    "title(\"Inner border\")\n",
    "imshow(border, cmap='gray')\n",
    "subplot(133)\n",
    "title(\"Inner border position\")\n",
    "imshow(cv2.bitwise_xor(padded_mask, border), cmap='gray')\n",
    "\n",
    "border_points = border_obj.get_border_points()  # Coordinates within padded mask/shred image.\n",
    "print padded_mask.shape"
   ]
  },
  {
   "cell_type": "code",
   "execution_count": null,
   "metadata": {
    "collapsed": false
   },
   "outputs": [],
   "source": [
    "all_samples, all_labels = classifier.get_dataset()"
   ]
  },
  {
   "cell_type": "code",
   "execution_count": null,
   "metadata": {
    "collapsed": false
   },
   "outputs": [],
   "source": [
    "cl = classifier.get_classifier()\n",
    "cl2 = classifier.DBNNNClassifier(cl, (all_samples, all_labels))"
   ]
  },
  {
   "cell_type": "code",
   "execution_count": null,
   "metadata": {
    "collapsed": false
   },
   "outputs": [],
   "source": [
    "shred = utils.masked_shred(source[graph.node[key1]['slice']], mask)\n",
    "\n",
    "padded_shred = dataset.pad_image(shred, dataset.WINDOW_SIDE)\n",
    "imshow(shred, cmap='gray')\n",
    "\n",
    "# Windows from this shred's borders.\n",
    "samples = []\n",
    "sample_coords = []\n",
    "c = 0\n",
    "for b in border_points:   \n",
    "    window_origin = b - dataset.WINDOW_SHAPE / 2\n",
    "    window_slice_index = dataset.to_slice(window_origin, dataset.WINDOW_SHAPE)\n",
    "    window = padded_shred[window_slice_index]\n",
    "\n",
    "    mask_window = padded_mask[window_slice_index]\n",
    "    outermost = utils.preserve_outermost(window, mask_window)\n",
    "    \n",
    "    if not utils.is_good_node(outermost):\n",
    "        continue\n",
    "    \n",
    "    sample = (outermost / 255.).flatten()\n",
    "    samples.append(sample)\n",
    "    sample_coords.append(window_origin)\n",
    "    \n",
    "    c += 1\n",
    "\n",
    "    #output = padded_shred.copy()\n",
    "    #cv2.imshow(\"Window\", window)\n",
    "    #cv2.rectangle(output, tuple((b-window_shape/2)[::-1]), tuple((b + window_shape/2)[::-1]), (255,0,0,255))\n",
    "    #cv2.imshow(\"Shred\", output)\n",
    "    #cv2.waitKey(10)\n",
    "samples = np.array(samples)\n",
    "print samples.shape"
   ]
  },
  {
   "cell_type": "code",
   "execution_count": null,
   "metadata": {
    "collapsed": false
   },
   "outputs": [],
   "source": [
    "res = cl.predict(samples)"
   ]
  },
  {
   "cell_type": "code",
   "execution_count": null,
   "metadata": {
    "collapsed": false
   },
   "outputs": [],
   "source": [
    "#res2 = cl2.predict(samples)"
   ]
  },
  {
   "cell_type": "code",
   "execution_count": null,
   "metadata": {
    "collapsed": false
   },
   "outputs": [],
   "source": [
    "import collections\n",
    "\n",
    "all_labels = set(res)\n",
    "num_labels = len(all_labels)\n",
    "colors = np.random.randint(0, 256, size=(num_labels, 4))\n",
    "colors[:, 3] = 255\n",
    "\n",
    "label2color = dict(zip(all_labels, colors))\n",
    "print \"Total labels:\", num_labels\n",
    "\n",
    "top_labels_to_pick = 7\n",
    "top_labels = [x[0] for x in collections.Counter(res).most_common(top_labels_to_pick)]\n",
    "\n",
    "row_height = 80\n",
    "legend = np.ones(((top_labels_to_pick+1) * row_height, 400, 3), dtype=shred.dtype) * 255\n",
    "\n",
    "output = cv2.cvtColor(padded_shred.copy(), cv2.cv.CV_GRAY2BGRA)\n",
    "for coords, label in zip(sample_coords, res):\n",
    "    if label not in top_labels: continue\n",
    "    coords = coords +  dataset.WINDOW_SHAPE / 2\n",
    "    cv2.circle(output, (coords[1], coords[0]), 5, label2color[label], thickness=-1)\n",
    "\n",
    "    \n",
    "covered_area = cv2.dilate(border, np.ones(dataset.WINDOW_SHAPE/2))\n",
    "        \n",
    "figure(num=None, figsize=(15, 10))\n",
    "subplot(171)\n",
    "imshow(dataset.pad_image(source[graph.node[key1]['slice']], dataset.WINDOW_SIDE), cmap='gray')\n",
    "subplot(172)\n",
    "imshow(padded_mask, cmap='gray')\n",
    "subplot(173)\n",
    "imshow(padded_shred, cmap='gray')\n",
    "subplot(174)\n",
    "imshow(covered_area, cmap='gray')\n",
    "subplot(175)\n",
    "imshow(cv2.bitwise_and(padded_shred, padded_shred, mask=covered_area), cmap='gray')\n",
    "subplot(176)\n",
    "imshow(output)\n",
    "subplot(177)\n",
    "    \n",
    "for i, label in enumerate(top_labels):\n",
    "    cv2.circle(legend, (30, (i+1) * row_height), 15, label2color[label][:3], thickness=-1)\n",
    "    text(60, (i+1.1) * row_height, unicode(\"%s (%d)\" % (label, collections.Counter(res)[label]), 'utf-8'), color='black', fontsize=20)\n",
    "\n",
    "imshow(legend)\n"
   ]
  },
  {
   "cell_type": "code",
   "execution_count": null,
   "metadata": {
    "collapsed": false
   },
   "outputs": [],
   "source": [
    "print len(res)"
   ]
  },
  {
   "cell_type": "code",
   "execution_count": null,
   "metadata": {
    "collapsed": false
   },
   "outputs": [],
   "source": [
    "len(all_samples)"
   ]
  },
  {
   "cell_type": "code",
   "execution_count": null,
   "metadata": {
    "collapsed": false
   },
   "outputs": [],
   "source": [
    "i = np.random.randint(0, len(res))\n",
    "\n",
    "print i, len(res)\n",
    "\n",
    "image = (samples[i] * 255).reshape(dataset.WINDOW_SHAPE).astype(\"uint8\")\n",
    "\n",
    "output = padded_shred.copy()\n",
    "point_a = sample_coords[i] [::-1]\n",
    "point_b = tuple(point_a + dataset.WINDOW_SHAPE)\n",
    "cv2.rectangle(output, tuple(point_a), point_b, (250), 2)\n",
    "\n",
    "subplot(141)\n",
    "imshow(image, cmap='gray')\n",
    "subplot(142)\n",
    "imshow(output, cmap='gray')\n",
    "\n",
    "proba = cl.predict_proba(np.array([samples[i]]))[0]\n",
    "proba = (proba*100).astype('int8')\n",
    "\n",
    "uber_prediction = cl2.predict(np.array([samples[i]]))\n",
    "\n",
    "subplot(122)\n",
    "plt.bar(range(len(proba)), proba, align='center')\n",
    "_ = plt.xticks(range(len(proba)), map(lambda x: unicode(x, 'utf-8'), cl.classes_), rotation=25)\n",
    "\n",
    "print \"Sample window classification\"\n",
    "for c, prob in zip(cl.classes_[proba>0], proba[proba>0]):\n",
    "    print c, prob\n",
    "\n",
    "print \"Custom super classifier prediction:\", uber_prediction[0]"
   ]
  },
  {
   "cell_type": "code",
   "execution_count": null,
   "metadata": {
    "collapsed": false
   },
   "outputs": [],
   "source": [
    "flat_image = image.flatten().astype(np.float32)\n",
    "all_distances = [np.linalg.norm(flat_image - sample) for sample in all_samples]"
   ]
  },
  {
   "cell_type": "code",
   "execution_count": null,
   "metadata": {
    "collapsed": false
   },
   "outputs": [],
   "source": [
    "closest_idx = np.argmin(all_distances)\n",
    "closest = all_samples[closest_idx].reshape(dataset.WINDOW_SHAPE)\n",
    "closest_label = all_labels[closest_idx]\n",
    "\n",
    "subplot(121)\n",
    "title(\"Window image\")\n",
    "imshow(image, 'gray')\n",
    "subplot(122)\n",
    "title(\"Closest match from the dataset\")\n",
    "imshow(closest, 'gray')\n",
    "\n",
    "print \"Bitwise closest image\"\n",
    "print \"Closest label:\", closest_label, \"distance:\", all_distances[closest_idx], \"idx:\", closest_idx"
   ]
  },
  {
   "cell_type": "code",
   "execution_count": null,
   "metadata": {
    "collapsed": true
   },
   "outputs": [],
   "source": []
  }
 ],
 "metadata": {
  "kernelspec": {
   "display_name": "Python 2",
   "language": "python",
   "name": "python2"
  },
  "language_info": {
   "codemirror_mode": {
    "name": "ipython",
    "version": 2
   },
   "file_extension": ".py",
   "mimetype": "text/x-python",
   "name": "python",
   "nbconvert_exporter": "python",
   "pygments_lexer": "ipython2",
   "version": "2.7.9"
  }
 },
 "nbformat": 4,
 "nbformat_minor": 0
}
